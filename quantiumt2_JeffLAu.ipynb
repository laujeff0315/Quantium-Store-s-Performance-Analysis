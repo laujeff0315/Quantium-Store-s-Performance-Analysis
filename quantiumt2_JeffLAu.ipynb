{
 "cells": [
  {
   "cell_type": "code",
   "execution_count": 1,
   "metadata": {},
   "outputs": [],
   "source": [
    "import pandas as pd\n",
    "import numpy as np"
   ]
  },
  {
   "cell_type": "markdown",
   "metadata": {},
   "source": [
    "## Step 1: Select Control Stores "
   ]
  },
  {
   "cell_type": "code",
   "execution_count": 2,
   "metadata": {},
   "outputs": [],
   "source": [
    "QVI_data = pd.read_csv('QVI_data.csv')"
   ]
  },
  {
   "cell_type": "code",
   "execution_count": 3,
   "metadata": {},
   "outputs": [
    {
     "data": {
      "text/html": [
       "<div>\n",
       "<style scoped>\n",
       "    .dataframe tbody tr th:only-of-type {\n",
       "        vertical-align: middle;\n",
       "    }\n",
       "\n",
       "    .dataframe tbody tr th {\n",
       "        vertical-align: top;\n",
       "    }\n",
       "\n",
       "    .dataframe thead th {\n",
       "        text-align: right;\n",
       "    }\n",
       "</style>\n",
       "<table border=\"1\" class=\"dataframe\">\n",
       "  <thead>\n",
       "    <tr style=\"text-align: right;\">\n",
       "      <th></th>\n",
       "      <th>LYLTY_CARD_NBR</th>\n",
       "      <th>DATE</th>\n",
       "      <th>STORE_NBR</th>\n",
       "      <th>TXN_ID</th>\n",
       "      <th>PROD_NBR</th>\n",
       "      <th>PROD_NAME</th>\n",
       "      <th>PROD_QTY</th>\n",
       "      <th>TOT_SALES</th>\n",
       "      <th>PACK_SIZE</th>\n",
       "      <th>BRAND</th>\n",
       "      <th>LIFESTAGE</th>\n",
       "      <th>PREMIUM_CUSTOMER</th>\n",
       "    </tr>\n",
       "  </thead>\n",
       "  <tbody>\n",
       "    <tr>\n",
       "      <th>0</th>\n",
       "      <td>1000</td>\n",
       "      <td>2018-10-17</td>\n",
       "      <td>1</td>\n",
       "      <td>1</td>\n",
       "      <td>5</td>\n",
       "      <td>Natural Chip        Compny SeaSalt175g</td>\n",
       "      <td>2</td>\n",
       "      <td>6.0</td>\n",
       "      <td>175</td>\n",
       "      <td>NATURAL</td>\n",
       "      <td>YOUNG SINGLES/COUPLES</td>\n",
       "      <td>Premium</td>\n",
       "    </tr>\n",
       "    <tr>\n",
       "      <th>1</th>\n",
       "      <td>1002</td>\n",
       "      <td>2018-09-16</td>\n",
       "      <td>1</td>\n",
       "      <td>2</td>\n",
       "      <td>58</td>\n",
       "      <td>Red Rock Deli Chikn&amp;Garlic Aioli 150g</td>\n",
       "      <td>1</td>\n",
       "      <td>2.7</td>\n",
       "      <td>150</td>\n",
       "      <td>RRD</td>\n",
       "      <td>YOUNG SINGLES/COUPLES</td>\n",
       "      <td>Mainstream</td>\n",
       "    </tr>\n",
       "    <tr>\n",
       "      <th>2</th>\n",
       "      <td>1003</td>\n",
       "      <td>2019-03-07</td>\n",
       "      <td>1</td>\n",
       "      <td>3</td>\n",
       "      <td>52</td>\n",
       "      <td>Grain Waves Sour    Cream&amp;Chives 210G</td>\n",
       "      <td>1</td>\n",
       "      <td>3.6</td>\n",
       "      <td>210</td>\n",
       "      <td>GRNWVES</td>\n",
       "      <td>YOUNG FAMILIES</td>\n",
       "      <td>Budget</td>\n",
       "    </tr>\n",
       "    <tr>\n",
       "      <th>3</th>\n",
       "      <td>1003</td>\n",
       "      <td>2019-03-08</td>\n",
       "      <td>1</td>\n",
       "      <td>4</td>\n",
       "      <td>106</td>\n",
       "      <td>Natural ChipCo      Hony Soy Chckn175g</td>\n",
       "      <td>1</td>\n",
       "      <td>3.0</td>\n",
       "      <td>175</td>\n",
       "      <td>NATURAL</td>\n",
       "      <td>YOUNG FAMILIES</td>\n",
       "      <td>Budget</td>\n",
       "    </tr>\n",
       "    <tr>\n",
       "      <th>4</th>\n",
       "      <td>1004</td>\n",
       "      <td>2018-11-02</td>\n",
       "      <td>1</td>\n",
       "      <td>5</td>\n",
       "      <td>96</td>\n",
       "      <td>WW Original Stacked Chips 160g</td>\n",
       "      <td>1</td>\n",
       "      <td>1.9</td>\n",
       "      <td>160</td>\n",
       "      <td>WOOLWORTHS</td>\n",
       "      <td>OLDER SINGLES/COUPLES</td>\n",
       "      <td>Mainstream</td>\n",
       "    </tr>\n",
       "  </tbody>\n",
       "</table>\n",
       "</div>"
      ],
      "text/plain": [
       "   LYLTY_CARD_NBR        DATE  STORE_NBR  TXN_ID  PROD_NBR  \\\n",
       "0            1000  2018-10-17          1       1         5   \n",
       "1            1002  2018-09-16          1       2        58   \n",
       "2            1003  2019-03-07          1       3        52   \n",
       "3            1003  2019-03-08          1       4       106   \n",
       "4            1004  2018-11-02          1       5        96   \n",
       "\n",
       "                                PROD_NAME  PROD_QTY  TOT_SALES  PACK_SIZE  \\\n",
       "0  Natural Chip        Compny SeaSalt175g         2        6.0        175   \n",
       "1   Red Rock Deli Chikn&Garlic Aioli 150g         1        2.7        150   \n",
       "2   Grain Waves Sour    Cream&Chives 210G         1        3.6        210   \n",
       "3  Natural ChipCo      Hony Soy Chckn175g         1        3.0        175   \n",
       "4          WW Original Stacked Chips 160g         1        1.9        160   \n",
       "\n",
       "        BRAND              LIFESTAGE PREMIUM_CUSTOMER  \n",
       "0     NATURAL  YOUNG SINGLES/COUPLES          Premium  \n",
       "1         RRD  YOUNG SINGLES/COUPLES       Mainstream  \n",
       "2     GRNWVES         YOUNG FAMILIES           Budget  \n",
       "3     NATURAL         YOUNG FAMILIES           Budget  \n",
       "4  WOOLWORTHS  OLDER SINGLES/COUPLES       Mainstream  "
      ]
     },
     "execution_count": 3,
     "metadata": {},
     "output_type": "execute_result"
    }
   ],
   "source": [
    "QVI_data.head()"
   ]
  },
  {
   "cell_type": "code",
   "execution_count": 4,
   "metadata": {},
   "outputs": [],
   "source": [
    "QVI_data['DATE'] = pd.to_datetime(QVI_data['DATE'])"
   ]
  },
  {
   "cell_type": "code",
   "execution_count": 5,
   "metadata": {},
   "outputs": [],
   "source": [
    "Pre_Trial = QVI_data[(QVI_data['DATE'] < '2019-02-01')]"
   ]
  },
  {
   "cell_type": "code",
   "execution_count": 6,
   "metadata": {},
   "outputs": [
    {
     "name": "stderr",
     "output_type": "stream",
     "text": [
      "<ipython-input-6-818493148bcc>:1: SettingWithCopyWarning: \n",
      "A value is trying to be set on a copy of a slice from a DataFrame.\n",
      "Try using .loc[row_indexer,col_indexer] = value instead\n",
      "\n",
      "See the caveats in the documentation: https://pandas.pydata.org/pandas-docs/stable/user_guide/indexing.html#returning-a-view-versus-a-copy\n",
      "  Pre_Trial['MONTH/YEAR'] = Pre_Trial['DATE'].dt.to_period('M')\n"
     ]
    }
   ],
   "source": [
    "Pre_Trial['MONTH/YEAR'] = Pre_Trial['DATE'].dt.to_period('M')"
   ]
  },
  {
   "cell_type": "code",
   "execution_count": 7,
   "metadata": {},
   "outputs": [],
   "source": [
    "# Calculate the total sales and total transactions for each stores\n",
    "Pre_Trial_sum = Pre_Trial.groupby(by = ['STORE_NBR','MONTH/YEAR']).sum().reset_index()\n",
    "Pre_Trial_count = Pre_Trial.groupby(by = ['STORE_NBR','MONTH/YEAR']).count().reset_index()"
   ]
  },
  {
   "cell_type": "code",
   "execution_count": 8,
   "metadata": {},
   "outputs": [],
   "source": [
    "Pre_Trial_info = pd.merge(Pre_Trial_sum[['MONTH/YEAR','STORE_NBR','TOT_SALES','PROD_QTY']],Pre_Trial_count[['MONTH/YEAR','STORE_NBR','PREMIUM_CUSTOMER']], how = 'inner')\n",
    "Pre_Trial_info.rename(columns= {'PREMIUM_CUSTOMER':'TOT_TRANSACTION'}, inplace= True)"
   ]
  },
  {
   "cell_type": "code",
   "execution_count": 9,
   "metadata": {},
   "outputs": [
    {
     "data": {
      "text/html": [
       "<div>\n",
       "<style scoped>\n",
       "    .dataframe tbody tr th:only-of-type {\n",
       "        vertical-align: middle;\n",
       "    }\n",
       "\n",
       "    .dataframe tbody tr th {\n",
       "        vertical-align: top;\n",
       "    }\n",
       "\n",
       "    .dataframe thead th {\n",
       "        text-align: right;\n",
       "    }\n",
       "</style>\n",
       "<table border=\"1\" class=\"dataframe\">\n",
       "  <thead>\n",
       "    <tr style=\"text-align: right;\">\n",
       "      <th></th>\n",
       "      <th>MONTH/YEAR</th>\n",
       "      <th>STORE_NBR</th>\n",
       "      <th>TOT_SALES</th>\n",
       "      <th>PROD_QTY</th>\n",
       "      <th>TOT_TRANSACTION</th>\n",
       "    </tr>\n",
       "  </thead>\n",
       "  <tbody>\n",
       "    <tr>\n",
       "      <th>0</th>\n",
       "      <td>2018-07</td>\n",
       "      <td>1</td>\n",
       "      <td>206.9</td>\n",
       "      <td>62</td>\n",
       "      <td>52</td>\n",
       "    </tr>\n",
       "    <tr>\n",
       "      <th>1</th>\n",
       "      <td>2018-08</td>\n",
       "      <td>1</td>\n",
       "      <td>176.1</td>\n",
       "      <td>54</td>\n",
       "      <td>43</td>\n",
       "    </tr>\n",
       "    <tr>\n",
       "      <th>2</th>\n",
       "      <td>2018-09</td>\n",
       "      <td>1</td>\n",
       "      <td>278.8</td>\n",
       "      <td>75</td>\n",
       "      <td>62</td>\n",
       "    </tr>\n",
       "    <tr>\n",
       "      <th>3</th>\n",
       "      <td>2018-10</td>\n",
       "      <td>1</td>\n",
       "      <td>188.1</td>\n",
       "      <td>58</td>\n",
       "      <td>45</td>\n",
       "    </tr>\n",
       "    <tr>\n",
       "      <th>4</th>\n",
       "      <td>2018-11</td>\n",
       "      <td>1</td>\n",
       "      <td>192.6</td>\n",
       "      <td>57</td>\n",
       "      <td>47</td>\n",
       "    </tr>\n",
       "  </tbody>\n",
       "</table>\n",
       "</div>"
      ],
      "text/plain": [
       "  MONTH/YEAR  STORE_NBR  TOT_SALES  PROD_QTY  TOT_TRANSACTION\n",
       "0    2018-07          1      206.9        62               52\n",
       "1    2018-08          1      176.1        54               43\n",
       "2    2018-09          1      278.8        75               62\n",
       "3    2018-10          1      188.1        58               45\n",
       "4    2018-11          1      192.6        57               47"
      ]
     },
     "execution_count": 9,
     "metadata": {},
     "output_type": "execute_result"
    }
   ],
   "source": [
    "Pre_Trial_info.head()"
   ]
  },
  {
   "cell_type": "code",
   "execution_count": 10,
   "metadata": {},
   "outputs": [],
   "source": [
    "#Calculate the total customers for each store, and merge the table with the info table\n",
    "Pre_Trial_info = pd.merge(Pre_Trial.groupby(by = ['STORE_NBR','MONTH/YEAR']).nunique()['LYLTY_CARD_NBR'].reset_index(), Pre_Trial_info, how = 'inner')"
   ]
  },
  {
   "cell_type": "code",
   "execution_count": 11,
   "metadata": {},
   "outputs": [],
   "source": [
    "Pre_Trial_info.rename(columns={'LYLTY_CARD_NBR':'TOT_CUSTOMER'}, inplace = True)"
   ]
  },
  {
   "cell_type": "code",
   "execution_count": 12,
   "metadata": {},
   "outputs": [],
   "source": [
    "Pre_Trial_info['AVG_TRANS_per_CUSTOMER'] = Pre_Trial_info['TOT_TRANSACTION']/Pre_Trial_info['TOT_CUSTOMER']\n"
   ]
  },
  {
   "cell_type": "code",
   "execution_count": 13,
   "metadata": {},
   "outputs": [],
   "source": [
    "#drop the stores that doesn't operate during the entire pre-trial period\n",
    "def is_full_pre_trial(s):\n",
    "    return Pre_Trial_info[Pre_Trial_info['STORE_NBR'] == s]['MONTH/YEAR'].nunique() == Pre_Trial_info['MONTH/YEAR'].nunique()\n",
    "\n",
    "Pre_Trial_info.drop(index = Pre_Trial_info[Pre_Trial_info['STORE_NBR'].apply(is_full_pre_trial)== False].index, inplace = True)\n"
   ]
  },
  {
   "cell_type": "code",
   "execution_count": 14,
   "metadata": {},
   "outputs": [
    {
     "data": {
      "text/html": [
       "<div>\n",
       "<style scoped>\n",
       "    .dataframe tbody tr th:only-of-type {\n",
       "        vertical-align: middle;\n",
       "    }\n",
       "\n",
       "    .dataframe tbody tr th {\n",
       "        vertical-align: top;\n",
       "    }\n",
       "\n",
       "    .dataframe thead th {\n",
       "        text-align: right;\n",
       "    }\n",
       "</style>\n",
       "<table border=\"1\" class=\"dataframe\">\n",
       "  <thead>\n",
       "    <tr style=\"text-align: right;\">\n",
       "      <th></th>\n",
       "      <th>STORE_NBR</th>\n",
       "      <th>MONTH/YEAR</th>\n",
       "      <th>TOT_CUSTOMER</th>\n",
       "      <th>TOT_SALES</th>\n",
       "      <th>PROD_QTY</th>\n",
       "      <th>TOT_TRANSACTION</th>\n",
       "      <th>AVG_TRANS_per_CUSTOMER</th>\n",
       "    </tr>\n",
       "  </thead>\n",
       "  <tbody>\n",
       "    <tr>\n",
       "      <th>0</th>\n",
       "      <td>1</td>\n",
       "      <td>2018-07</td>\n",
       "      <td>49</td>\n",
       "      <td>206.9</td>\n",
       "      <td>62</td>\n",
       "      <td>52</td>\n",
       "      <td>1.061224</td>\n",
       "    </tr>\n",
       "    <tr>\n",
       "      <th>1</th>\n",
       "      <td>1</td>\n",
       "      <td>2018-08</td>\n",
       "      <td>42</td>\n",
       "      <td>176.1</td>\n",
       "      <td>54</td>\n",
       "      <td>43</td>\n",
       "      <td>1.023810</td>\n",
       "    </tr>\n",
       "    <tr>\n",
       "      <th>2</th>\n",
       "      <td>1</td>\n",
       "      <td>2018-09</td>\n",
       "      <td>59</td>\n",
       "      <td>278.8</td>\n",
       "      <td>75</td>\n",
       "      <td>62</td>\n",
       "      <td>1.050847</td>\n",
       "    </tr>\n",
       "    <tr>\n",
       "      <th>3</th>\n",
       "      <td>1</td>\n",
       "      <td>2018-10</td>\n",
       "      <td>44</td>\n",
       "      <td>188.1</td>\n",
       "      <td>58</td>\n",
       "      <td>45</td>\n",
       "      <td>1.022727</td>\n",
       "    </tr>\n",
       "    <tr>\n",
       "      <th>4</th>\n",
       "      <td>1</td>\n",
       "      <td>2018-11</td>\n",
       "      <td>46</td>\n",
       "      <td>192.6</td>\n",
       "      <td>57</td>\n",
       "      <td>47</td>\n",
       "      <td>1.021739</td>\n",
       "    </tr>\n",
       "  </tbody>\n",
       "</table>\n",
       "</div>"
      ],
      "text/plain": [
       "   STORE_NBR MONTH/YEAR  TOT_CUSTOMER  TOT_SALES  PROD_QTY  TOT_TRANSACTION  \\\n",
       "0          1    2018-07            49      206.9        62               52   \n",
       "1          1    2018-08            42      176.1        54               43   \n",
       "2          1    2018-09            59      278.8        75               62   \n",
       "3          1    2018-10            44      188.1        58               45   \n",
       "4          1    2018-11            46      192.6        57               47   \n",
       "\n",
       "   AVG_TRANS_per_CUSTOMER  \n",
       "0                1.061224  \n",
       "1                1.023810  \n",
       "2                1.050847  \n",
       "3                1.022727  \n",
       "4                1.021739  "
      ]
     },
     "execution_count": 14,
     "metadata": {},
     "output_type": "execute_result"
    }
   ],
   "source": [
    "Pre_Trial_info.head()"
   ]
  },
  {
   "cell_type": "code",
   "execution_count": 15,
   "metadata": {},
   "outputs": [],
   "source": [
    "#Create the data frame that shows how each stores is correlated to the trial stores\n",
    "Pre_Trial_comparison = pd.DataFrame()"
   ]
  },
  {
   "cell_type": "code",
   "execution_count": 16,
   "metadata": {},
   "outputs": [],
   "source": [
    "Pre_Trial_comparison['STORE_NBR'] = Pre_Trial_info['STORE_NBR'].unique()"
   ]
  },
  {
   "cell_type": "code",
   "execution_count": 17,
   "metadata": {},
   "outputs": [],
   "source": [
    "#define a metric to calculate the correlation\n",
    "def mean_dist(tri_str_num,control_str_num,FEATURE):\n",
    "    mag_difference = 0\n",
    "    for month in Pre_Trial_info['MONTH/YEAR'].unique():\n",
    "        mag_difference += abs(Pre_Trial_info[(Pre_Trial_info['STORE_NBR'] == tri_str_num) & (Pre_Trial_info['MONTH/YEAR'] == month)][FEATURE].item() -\n",
    "                            Pre_Trial_info[(Pre_Trial_info['STORE_NBR'] == control_str_num) & (Pre_Trial_info['MONTH/YEAR'] == month)][FEATURE].item())\n",
    "    return (mag_difference/Pre_Trial_info['MONTH/YEAR'].nunique())"
   ]
  },
  {
   "cell_type": "code",
   "execution_count": 18,
   "metadata": {},
   "outputs": [],
   "source": [
    "control_store_NBR = [77,86,88]\n",
    "Features = ['TOT_CUSTOMER','TOT_SALES','AVG_TRANS_per_CUSTOMER']"
   ]
  },
  {
   "cell_type": "code",
   "execution_count": 19,
   "metadata": {},
   "outputs": [],
   "source": [
    "for feature in Features:\n",
    "    for num in control_store_NBR:\n",
    "        Pre_Trial_comparison['mean_dif_'+str(num)+'_'+feature] = Pre_Trial_comparison['STORE_NBR'].apply(mean_dist,control_str_num = num, FEATURE = feature)"
   ]
  },
  {
   "cell_type": "code",
   "execution_count": 20,
   "metadata": {},
   "outputs": [],
   "source": [
    "#standaardise the data for better comparison (1 = most related, 0 = not related)\n",
    "comparison_col = Pre_Trial_comparison.columns\n",
    "comparison_col = comparison_col.drop('STORE_NBR')\n",
    "\n",
    "for col in comparison_col:\n",
    "    Pre_Trial_comparison[col] = 1-(Pre_Trial_comparison[col]/Pre_Trial_comparison[col].max())"
   ]
  },
  {
   "cell_type": "code",
   "execution_count": 21,
   "metadata": {},
   "outputs": [],
   "source": [
    "#take an average of the scores for each store\n",
    "# weight heavier for total sales and total customers\n",
    "for num in control_store_NBR:\n",
    "    Pre_Trial_comparison['avg_'+str(num)] = 0.4*Pre_Trial_comparison['mean_dif_'+str(num)+'_'+'TOT_CUSTOMER']+ 0.4*Pre_Trial_comparison['mean_dif_'+str(num)+'_'+'TOT_SALES']+0.2*Pre_Trial_comparison['mean_dif_'+str(num)+'_'+'AVG_TRANS_per_CUSTOMER']"
   ]
  },
  {
   "cell_type": "code",
   "execution_count": 22,
   "metadata": {},
   "outputs": [
    {
     "data": {
      "text/html": [
       "<div>\n",
       "<style scoped>\n",
       "    .dataframe tbody tr th:only-of-type {\n",
       "        vertical-align: middle;\n",
       "    }\n",
       "\n",
       "    .dataframe tbody tr th {\n",
       "        vertical-align: top;\n",
       "    }\n",
       "\n",
       "    .dataframe thead th {\n",
       "        text-align: right;\n",
       "    }\n",
       "</style>\n",
       "<table border=\"1\" class=\"dataframe\">\n",
       "  <thead>\n",
       "    <tr style=\"text-align: right;\">\n",
       "      <th></th>\n",
       "      <th>STORE_NBR</th>\n",
       "      <th>avg_77</th>\n",
       "    </tr>\n",
       "  </thead>\n",
       "  <tbody>\n",
       "    <tr>\n",
       "      <th>72</th>\n",
       "      <td>77</td>\n",
       "      <td>1.000000</td>\n",
       "    </tr>\n",
       "    <tr>\n",
       "      <th>221</th>\n",
       "      <td>233</td>\n",
       "      <td>0.966890</td>\n",
       "    </tr>\n",
       "    <tr>\n",
       "      <th>42</th>\n",
       "      <td>46</td>\n",
       "      <td>0.951975</td>\n",
       "    </tr>\n",
       "  </tbody>\n",
       "</table>\n",
       "</div>"
      ],
      "text/plain": [
       "     STORE_NBR    avg_77\n",
       "72          77  1.000000\n",
       "221        233  0.966890\n",
       "42          46  0.951975"
      ]
     },
     "execution_count": 22,
     "metadata": {},
     "output_type": "execute_result"
    }
   ],
   "source": [
    "#find the store with the cloest score to 77 to be control store\n",
    "Pre_Trial_comparison.sort_values('avg_77',ascending= False,axis = 0)[['STORE_NBR','avg_77']].head(3)"
   ]
  },
  {
   "cell_type": "code",
   "execution_count": 23,
   "metadata": {},
   "outputs": [
    {
     "data": {
      "text/html": [
       "<div>\n",
       "<style scoped>\n",
       "    .dataframe tbody tr th:only-of-type {\n",
       "        vertical-align: middle;\n",
       "    }\n",
       "\n",
       "    .dataframe tbody tr th {\n",
       "        vertical-align: top;\n",
       "    }\n",
       "\n",
       "    .dataframe thead th {\n",
       "        text-align: right;\n",
       "    }\n",
       "</style>\n",
       "<table border=\"1\" class=\"dataframe\">\n",
       "  <thead>\n",
       "    <tr style=\"text-align: right;\">\n",
       "      <th></th>\n",
       "      <th>STORE_NBR</th>\n",
       "      <th>avg_86</th>\n",
       "    </tr>\n",
       "  </thead>\n",
       "  <tbody>\n",
       "    <tr>\n",
       "      <th>80</th>\n",
       "      <td>86</td>\n",
       "      <td>1.000000</td>\n",
       "    </tr>\n",
       "    <tr>\n",
       "      <th>147</th>\n",
       "      <td>155</td>\n",
       "      <td>0.926828</td>\n",
       "    </tr>\n",
       "    <tr>\n",
       "      <th>94</th>\n",
       "      <td>101</td>\n",
       "      <td>0.924705</td>\n",
       "    </tr>\n",
       "  </tbody>\n",
       "</table>\n",
       "</div>"
      ],
      "text/plain": [
       "     STORE_NBR    avg_86\n",
       "80          86  1.000000\n",
       "147        155  0.926828\n",
       "94         101  0.924705"
      ]
     },
     "execution_count": 23,
     "metadata": {},
     "output_type": "execute_result"
    }
   ],
   "source": [
    "#find the store with the cloest score to 86 to be control store\n",
    "Pre_Trial_comparison.sort_values('avg_86',ascending= False,axis = 0)[['STORE_NBR','avg_86']].head(3)"
   ]
  },
  {
   "cell_type": "code",
   "execution_count": 24,
   "metadata": {},
   "outputs": [
    {
     "data": {
      "text/html": [
       "<div>\n",
       "<style scoped>\n",
       "    .dataframe tbody tr th:only-of-type {\n",
       "        vertical-align: middle;\n",
       "    }\n",
       "\n",
       "    .dataframe tbody tr th {\n",
       "        vertical-align: top;\n",
       "    }\n",
       "\n",
       "    .dataframe thead th {\n",
       "        text-align: right;\n",
       "    }\n",
       "</style>\n",
       "<table border=\"1\" class=\"dataframe\">\n",
       "  <thead>\n",
       "    <tr style=\"text-align: right;\">\n",
       "      <th></th>\n",
       "      <th>STORE_NBR</th>\n",
       "      <th>avg_88</th>\n",
       "    </tr>\n",
       "  </thead>\n",
       "  <tbody>\n",
       "    <tr>\n",
       "      <th>82</th>\n",
       "      <td>88</td>\n",
       "      <td>1.000000</td>\n",
       "    </tr>\n",
       "    <tr>\n",
       "      <th>225</th>\n",
       "      <td>237</td>\n",
       "      <td>0.936315</td>\n",
       "    </tr>\n",
       "    <tr>\n",
       "      <th>194</th>\n",
       "      <td>203</td>\n",
       "      <td>0.915606</td>\n",
       "    </tr>\n",
       "  </tbody>\n",
       "</table>\n",
       "</div>"
      ],
      "text/plain": [
       "     STORE_NBR    avg_88\n",
       "82          88  1.000000\n",
       "225        237  0.936315\n",
       "194        203  0.915606"
      ]
     },
     "execution_count": 24,
     "metadata": {},
     "output_type": "execute_result"
    }
   ],
   "source": [
    "#find the store with the cloest score to 88 to be control store\n",
    "Pre_Trial_comparison.sort_values('avg_88',ascending= False,axis = 0)[['STORE_NBR','avg_88']].head(3)"
   ]
  },
  {
   "cell_type": "markdown",
   "metadata": {},
   "source": [
    "Control Stores for:\n",
    "\n",
    "Store 77: Store 233 <br> \n",
    "Store 86: Store 155 <br>\n",
    "Store 88: Store 237"
   ]
  },
  {
   "cell_type": "code",
   "execution_count": 25,
   "metadata": {},
   "outputs": [],
   "source": [
    "import matplotlib.pyplot as plt\n",
    "import seaborn as sns"
   ]
  },
  {
   "cell_type": "code",
   "execution_count": 26,
   "metadata": {},
   "outputs": [
    {
     "data": {
      "text/plain": [
       "<matplotlib.axes._subplots.AxesSubplot at 0xed85628>"
      ]
     },
     "execution_count": 26,
     "metadata": {},
     "output_type": "execute_result"
    },
    {
     "data": {
      "image/png": "[encoded data removed]",
      "text/plain": [
       "<Figure size 1080x288 with 3 Axes>"
      ]
     },
     "metadata": {
      "needs_background": "light"
     },
     "output_type": "display_data"
    }
   ],
   "source": [
    "#Compare the performance of Store 77 and Store 233\n",
    "fig, axes= plt.subplots(ncols = 3, nrows = 1,figsize = (15,4))\n",
    "\n",
    "#Total Sales\n",
    "axes[0].set_title('Total Sales')\n",
    "Pre_Trial_info[(Pre_Trial_info['STORE_NBR'] == 77)].plot.line(x = 'MONTH/YEAR', y = 'TOT_SALES', ax = axes[0], label = 'Store 77')\n",
    "Pre_Trial_info[(Pre_Trial_info['STORE_NBR'] == 233)].plot.line(x = 'MONTH/YEAR', y = 'TOT_SALES', ax = axes[0], label = 'Store 233')\n",
    "\n",
    "#Total Customers\n",
    "axes[1].set_title('Total Customers')\n",
    "Pre_Trial_info[(Pre_Trial_info['STORE_NBR'] == 77)].plot.line(x = 'MONTH/YEAR', y = 'TOT_CUSTOMER', ax = axes[1], label = 'Store 77')\n",
    "Pre_Trial_info[(Pre_Trial_info['STORE_NBR'] == 233)].plot.line(x = 'MONTH/YEAR', y = 'TOT_CUSTOMER', ax = axes[1], label = 'Store 233')\n",
    "\n",
    "#Average Transaction per Customer\n",
    "axes[2].set_title('Average Transaction per Customer')\n",
    "Pre_Trial_info[(Pre_Trial_info['STORE_NBR'] == 77)].plot.line(x = 'MONTH/YEAR', y = 'AVG_TRANS_per_CUSTOMER', ax = axes[2], label = 'Store 77')\n",
    "Pre_Trial_info[(Pre_Trial_info['STORE_NBR'] == 233)].plot.line(x = 'MONTH/YEAR', y = 'AVG_TRANS_per_CUSTOMER', ax = axes[2], label = 'Store 233')\n"
   ]
  },
  {
   "cell_type": "code",
   "execution_count": 27,
   "metadata": {},
   "outputs": [
    {
     "data": {
      "text/plain": [
       "<matplotlib.axes._subplots.AxesSubplot at 0xf00b6d0>"
      ]
     },
     "execution_count": 27,
     "metadata": {},
     "output_type": "execute_result"
    },
    {
     "data": {
      "image/png": "[encoded data removed]",
      "text/plain": [
       "<Figure size 1080x216 with 3 Axes>"
      ]
     },
     "metadata": {
      "needs_background": "light"
     },
     "output_type": "display_data"
    }
   ],
   "source": [
    "#Compare the performance of Store 86 and Store 155\n",
    "fig, axes= plt.subplots(ncols = 3, nrows = 1,figsize = (15,3))\n",
    "\n",
    "#Total Sales\n",
    "axes[0].set_title('Total Sales')\n",
    "Pre_Trial_info[(Pre_Trial_info['STORE_NBR'] == 86)].plot.line(x = 'MONTH/YEAR', y = 'TOT_SALES', ax = axes[0], label = 'Store 86')\n",
    "Pre_Trial_info[(Pre_Trial_info['STORE_NBR'] == 155)].plot.line(x = 'MONTH/YEAR', y = 'TOT_SALES', ax = axes[0], label = 'Store 155')\n",
    "\n",
    "#Total Customers\n",
    "axes[1].set_title('Total Customers')\n",
    "Pre_Trial_info[(Pre_Trial_info['STORE_NBR'] == 86)].plot.line(x = 'MONTH/YEAR', y = 'TOT_CUSTOMER', ax = axes[1], label = 'Store 86')\n",
    "Pre_Trial_info[(Pre_Trial_info['STORE_NBR'] == 155)].plot.line(x = 'MONTH/YEAR', y = 'TOT_CUSTOMER', ax = axes[1], label = 'Store 155')\n",
    "\n",
    "#Average Transaction per Customer\n",
    "axes[2].set_title('Average Transaction per Customer')\n",
    "Pre_Trial_info[(Pre_Trial_info['STORE_NBR'] == 86)].plot.line(x = 'MONTH/YEAR', y = 'AVG_TRANS_per_CUSTOMER', ax = axes[2], label = 'Store 86')\n",
    "Pre_Trial_info[(Pre_Trial_info['STORE_NBR'] == 155)].plot.line(x = 'MONTH/YEAR', y = 'AVG_TRANS_per_CUSTOMER', ax = axes[2], label = 'Store 155')\n"
   ]
  },
  {
   "cell_type": "code",
   "execution_count": 28,
   "metadata": {},
   "outputs": [
    {
     "data": {
      "text/plain": [
       "<matplotlib.axes._subplots.AxesSubplot at 0xeef72e0>"
      ]
     },
     "execution_count": 28,
     "metadata": {},
     "output_type": "execute_result"
    },
    {
     "data": {
      "image/png": "[encoded data removed]",
      "text/plain": [
       "<Figure size 1080x216 with 3 Axes>"
      ]
     },
     "metadata": {
      "needs_background": "light"
     },
     "output_type": "display_data"
    }
   ],
   "source": [
    "#Compare the performance of Store 88 and Store 237\n",
    "fig, axes= plt.subplots(ncols = 3, nrows = 1,figsize = (15,3))\n",
    "\n",
    "#Total Sales\n",
    "axes[0].set_title('Total Sales')\n",
    "Pre_Trial_info[(Pre_Trial_info['STORE_NBR'] == 88)].plot.line(x = 'MONTH/YEAR', y = 'TOT_SALES', ax = axes[0], label = 'Store 88')\n",
    "Pre_Trial_info[(Pre_Trial_info['STORE_NBR'] == 237)].plot.line(x = 'MONTH/YEAR', y = 'TOT_SALES', ax = axes[0], label = 'Store 237')\n",
    "\n",
    "#Total Customers\n",
    "axes[1].set_title('Total Customers')\n",
    "Pre_Trial_info[(Pre_Trial_info['STORE_NBR'] == 88)].plot.line(x = 'MONTH/YEAR', y = 'TOT_CUSTOMER', ax = axes[1], label = 'Store 88')\n",
    "Pre_Trial_info[(Pre_Trial_info['STORE_NBR'] == 237)].plot.line(x = 'MONTH/YEAR', y = 'TOT_CUSTOMER', ax = axes[1], label = 'Store 237')\n",
    "\n",
    "#Average Transaction per Customer\n",
    "axes[2].set_title('Average Transaction per Customer')\n",
    "Pre_Trial_info[(Pre_Trial_info['STORE_NBR'] == 88)].plot.line(x = 'MONTH/YEAR', y = 'AVG_TRANS_per_CUSTOMER', ax = axes[2], label = 'Store 88')\n",
    "Pre_Trial_info[(Pre_Trial_info['STORE_NBR'] == 237)].plot.line(x = 'MONTH/YEAR', y = 'AVG_TRANS_per_CUSTOMER', ax = axes[2], label = 'Store 237')\n"
   ]
  },
  {
   "cell_type": "markdown",
   "metadata": {},
   "source": [
    "## Step 2: Trial Period Comparison"
   ]
  },
  {
   "cell_type": "code",
   "execution_count": 29,
   "metadata": {},
   "outputs": [],
   "source": [
    "# Get the record over the trial period\n",
    "Trial = QVI_data[(QVI_data['DATE']>= '2019-02-01') & (QVI_data['DATE']< '2019-05-01')]"
   ]
  },
  {
   "cell_type": "code",
   "execution_count": 30,
   "metadata": {},
   "outputs": [
    {
     "name": "stderr",
     "output_type": "stream",
     "text": [
      "C:\\Users\\Jeff Lau\\OneDrive\\Anaconda\\lib\\site-packages\\pandas\\core\\frame.py:3990: SettingWithCopyWarning: \n",
      "A value is trying to be set on a copy of a slice from a DataFrame\n",
      "\n",
      "See the caveats in the documentation: https://pandas.pydata.org/pandas-docs/stable/user_guide/indexing.html#returning-a-view-versus-a-copy\n",
      "  return super().drop(\n"
     ]
    }
   ],
   "source": [
    "# Drop the non-trial and non-control stores \n",
    "Trial.drop(index = Trial[Trial['STORE_NBR'].apply(lambda s: s not in [77,86,88,155,233,237])].index, inplace = True)"
   ]
  },
  {
   "cell_type": "code",
   "execution_count": 31,
   "metadata": {},
   "outputs": [],
   "source": [
    "#Record the trial stores and its control counterpart, for the control stores we assign itself for the calculation convenience\n",
    "stores = {77: 233 , 86: 155, 88: 237, 233: 233, 155: 155, 237: 237}"
   ]
  },
  {
   "cell_type": "code",
   "execution_count": 32,
   "metadata": {},
   "outputs": [
    {
     "data": {
      "text/plain": [
       "[77, 86, 88]"
      ]
     },
     "execution_count": 32,
     "metadata": {},
     "output_type": "execute_result"
    }
   ],
   "source": [
    "control_store_NBR"
   ]
  },
  {
   "cell_type": "code",
   "execution_count": 33,
   "metadata": {},
   "outputs": [
    {
     "data": {
      "text/html": [
       "<div>\n",
       "<style scoped>\n",
       "    .dataframe tbody tr th:only-of-type {\n",
       "        vertical-align: middle;\n",
       "    }\n",
       "\n",
       "    .dataframe tbody tr th {\n",
       "        vertical-align: top;\n",
       "    }\n",
       "\n",
       "    .dataframe thead th {\n",
       "        text-align: right;\n",
       "    }\n",
       "</style>\n",
       "<table border=\"1\" class=\"dataframe\">\n",
       "  <thead>\n",
       "    <tr style=\"text-align: right;\">\n",
       "      <th></th>\n",
       "      <th>TOT_CUSTOMER</th>\n",
       "      <th>TOT_SALES</th>\n",
       "      <th>PROD_QTY</th>\n",
       "      <th>TOT_TRANSACTION</th>\n",
       "      <th>AVG_TRANS_per_CUSTOMER</th>\n",
       "    </tr>\n",
       "    <tr>\n",
       "      <th>STORE_NBR</th>\n",
       "      <th></th>\n",
       "      <th></th>\n",
       "      <th></th>\n",
       "      <th></th>\n",
       "      <th></th>\n",
       "    </tr>\n",
       "  </thead>\n",
       "  <tbody>\n",
       "    <tr>\n",
       "      <th>77</th>\n",
       "      <td>299</td>\n",
       "      <td>1699.00</td>\n",
       "      <td>484</td>\n",
       "      <td>317</td>\n",
       "      <td>7.427028</td>\n",
       "    </tr>\n",
       "    <tr>\n",
       "      <th>86</th>\n",
       "      <td>697</td>\n",
       "      <td>6119.85</td>\n",
       "      <td>1754</td>\n",
       "      <td>882</td>\n",
       "      <td>8.860167</td>\n",
       "    </tr>\n",
       "    <tr>\n",
       "      <th>88</th>\n",
       "      <td>880</td>\n",
       "      <td>9383.60</td>\n",
       "      <td>2147</td>\n",
       "      <td>1082</td>\n",
       "      <td>8.612327</td>\n",
       "    </tr>\n",
       "    <tr>\n",
       "      <th>155</th>\n",
       "      <td>697</td>\n",
       "      <td>6308.70</td>\n",
       "      <td>1805</td>\n",
       "      <td>908</td>\n",
       "      <td>9.119888</td>\n",
       "    </tr>\n",
       "    <tr>\n",
       "      <th>233</th>\n",
       "      <td>298</td>\n",
       "      <td>1659.80</td>\n",
       "      <td>478</td>\n",
       "      <td>311</td>\n",
       "      <td>7.289320</td>\n",
       "    </tr>\n",
       "    <tr>\n",
       "      <th>237</th>\n",
       "      <td>885</td>\n",
       "      <td>9369.00</td>\n",
       "      <td>2121</td>\n",
       "      <td>1073</td>\n",
       "      <td>8.482329</td>\n",
       "    </tr>\n",
       "  </tbody>\n",
       "</table>\n",
       "</div>"
      ],
      "text/plain": [
       "           TOT_CUSTOMER  TOT_SALES  PROD_QTY  TOT_TRANSACTION  \\\n",
       "STORE_NBR                                                       \n",
       "77                  299    1699.00       484              317   \n",
       "86                  697    6119.85      1754              882   \n",
       "88                  880    9383.60      2147             1082   \n",
       "155                 697    6308.70      1805              908   \n",
       "233                 298    1659.80       478              311   \n",
       "237                 885    9369.00      2121             1073   \n",
       "\n",
       "           AVG_TRANS_per_CUSTOMER  \n",
       "STORE_NBR                          \n",
       "77                       7.427028  \n",
       "86                       8.860167  \n",
       "88                       8.612327  \n",
       "155                      9.119888  \n",
       "233                      7.289320  \n",
       "237                      8.482329  "
      ]
     },
     "execution_count": 33,
     "metadata": {},
     "output_type": "execute_result"
    }
   ],
   "source": [
    "#Record the total sale of these stores before the trial period\n",
    "Pre_Trial_overall= Pre_Trial_info[Pre_Trial_info['STORE_NBR'].apply(lambda s: s in [77,86,88,155,233,237])].groupby(by = 'STORE_NBR').sum()\n",
    "Pre_Trial_overall"
   ]
  },
  {
   "cell_type": "code",
   "execution_count": 34,
   "metadata": {},
   "outputs": [],
   "source": [
    "# Calculate the scaling factor of total sales over the pre-trial period for the pairs, and apply it on the total sales in trial stores over the trial period\n",
    "# First we define the method for the scaling factor\n",
    "\n",
    "def scaled_quantity(tri_nbr,FEATURE,df):\n",
    "    control_nbr = stores[tri_nbr]\n",
    "    s = Pre_Trial_overall.loc[control_nbr][FEATURE]/Pre_Trial_overall.loc[tri_nbr][FEATURE]\n",
    "    return (df[df['STORE_NBR'] == tri_nbr][FEATURE] * s ).item()"
   ]
  },
  {
   "cell_type": "code",
   "execution_count": 35,
   "metadata": {},
   "outputs": [],
   "source": [
    "#Apply the scaling factor into the new columns and recorded\n",
    "\n",
    "#total sales\n",
    "Trial_sum = Trial.groupby(by = 'STORE_NBR').sum()['TOT_SALES'].reset_index()\n",
    "Trial_sum['Scaled_TOT_SALES'] = Trial_sum['STORE_NBR'].apply(scaled_quantity,FEATURE = 'TOT_SALES',df = Trial_sum)\n",
    "Trial_sum['Scaled_TOT_SALES']= Trial_sum['Scaled_TOT_SALES'].round(2)\n",
    "\n",
    "#total customer\n",
    "Trial_count = Trial.groupby(by = 'STORE_NBR').nunique()['LYLTY_CARD_NBR'].reset_index()\n",
    "Trial_count.rename(columns={'LYLTY_CARD_NBR':'TOT_CUSTOMER'}, inplace = True)\n",
    "Trial_count['Scaled_TOT_CUSTOMER'] = Trial_count['STORE_NBR'].apply(scaled_quantity,FEATURE = 'TOT_CUSTOMER', df = Trial_count)\n",
    "Trial_count['Scaled_TOT_CUSTOMER'] = Trial_count['Scaled_TOT_CUSTOMER'].apply(lambda s : int(s))"
   ]
  },
  {
   "cell_type": "code",
   "execution_count": 36,
   "metadata": {},
   "outputs": [
    {
     "data": {
      "text/html": [
       "<div>\n",
       "<style scoped>\n",
       "    .dataframe tbody tr th:only-of-type {\n",
       "        vertical-align: middle;\n",
       "    }\n",
       "\n",
       "    .dataframe tbody tr th {\n",
       "        vertical-align: top;\n",
       "    }\n",
       "\n",
       "    .dataframe thead th {\n",
       "        text-align: right;\n",
       "    }\n",
       "</style>\n",
       "<table border=\"1\" class=\"dataframe\">\n",
       "  <thead>\n",
       "    <tr style=\"text-align: right;\">\n",
       "      <th></th>\n",
       "      <th>TOT_SALES</th>\n",
       "      <th>Scaled_TOT_SALES</th>\n",
       "      <th>TOT_CUSTOMER</th>\n",
       "      <th>Scaled_TOT_CUSTOMER</th>\n",
       "    </tr>\n",
       "    <tr>\n",
       "      <th>STORE_NBR</th>\n",
       "      <th></th>\n",
       "      <th></th>\n",
       "      <th></th>\n",
       "      <th></th>\n",
       "    </tr>\n",
       "  </thead>\n",
       "  <tbody>\n",
       "    <tr>\n",
       "      <th>77</th>\n",
       "      <td>777.0</td>\n",
       "      <td>759.07</td>\n",
       "      <td>124</td>\n",
       "      <td>123</td>\n",
       "    </tr>\n",
       "    <tr>\n",
       "      <th>86</th>\n",
       "      <td>2788.2</td>\n",
       "      <td>2874.24</td>\n",
       "      <td>215</td>\n",
       "      <td>215</td>\n",
       "    </tr>\n",
       "    <tr>\n",
       "      <th>88</th>\n",
       "      <td>4286.8</td>\n",
       "      <td>4280.13</td>\n",
       "      <td>261</td>\n",
       "      <td>262</td>\n",
       "    </tr>\n",
       "    <tr>\n",
       "      <th>155</th>\n",
       "      <td>2540.2</td>\n",
       "      <td>2540.20</td>\n",
       "      <td>190</td>\n",
       "      <td>190</td>\n",
       "    </tr>\n",
       "    <tr>\n",
       "      <th>233</th>\n",
       "      <td>601.7</td>\n",
       "      <td>601.70</td>\n",
       "      <td>112</td>\n",
       "      <td>112</td>\n",
       "    </tr>\n",
       "    <tr>\n",
       "      <th>237</th>\n",
       "      <td>3817.6</td>\n",
       "      <td>3817.60</td>\n",
       "      <td>262</td>\n",
       "      <td>262</td>\n",
       "    </tr>\n",
       "  </tbody>\n",
       "</table>\n",
       "</div>"
      ],
      "text/plain": [
       "           TOT_SALES  Scaled_TOT_SALES  TOT_CUSTOMER  Scaled_TOT_CUSTOMER\n",
       "STORE_NBR                                                                \n",
       "77             777.0            759.07           124                  123\n",
       "86            2788.2           2874.24           215                  215\n",
       "88            4286.8           4280.13           261                  262\n",
       "155           2540.2           2540.20           190                  190\n",
       "233            601.7            601.70           112                  112\n",
       "237           3817.6           3817.60           262                  262"
      ]
     },
     "execution_count": 36,
     "metadata": {},
     "output_type": "execute_result"
    }
   ],
   "source": [
    "Trial_overall = pd.merge(Trial_sum, Trial_count).set_index(\"STORE_NBR\")\n",
    "Trial_overall"
   ]
  },
  {
   "cell_type": "code",
   "execution_count": 37,
   "metadata": {},
   "outputs": [],
   "source": [
    "#Display the percentage difference of total sales of each pair\n",
    "percentd = {}\n",
    "\n",
    "for num in control_store_NBR:\n",
    "    percentd[(num, stores[num])] = (Trial_overall.loc[num]['Scaled_TOT_SALES'] - Trial_overall.loc[stores[num]]['Scaled_TOT_SALES'])/(Trial_overall.loc[stores[num]]['Scaled_TOT_SALES'])\n",
    "    \n",
    "percentd_data_0 = pd.DataFrame(percentd.items(), columns = ['Tri, Ctr','%_diff_TOT_SALES'])\n",
    "\n",
    "\n"
   ]
  },
  {
   "cell_type": "code",
   "execution_count": 38,
   "metadata": {},
   "outputs": [],
   "source": [
    "#Display the percentage difference of total customers of each pair\n",
    "for num in control_store_NBR:\n",
    "    percentd[(num, stores[num])] = (Trial_overall.loc[num]['Scaled_TOT_CUSTOMER'] - Trial_overall.loc[stores[num]]['Scaled_TOT_CUSTOMER'])/(Trial_overall.loc[stores[num]]['Scaled_TOT_CUSTOMER'])\n",
    "\n",
    "percentd_data_1 = pd.DataFrame(percentd.items(), columns = ['Tri, Ctr','%_diff_TOT_CUSTOMER'])\n",
    "\n",
    "\n",
    "percentd_data = pd.merge(percentd_data_0,percentd_data_1)"
   ]
  },
  {
   "cell_type": "code",
   "execution_count": 39,
   "metadata": {},
   "outputs": [
    {
     "data": {
      "text/html": [
       "<div>\n",
       "<style scoped>\n",
       "    .dataframe tbody tr th:only-of-type {\n",
       "        vertical-align: middle;\n",
       "    }\n",
       "\n",
       "    .dataframe tbody tr th {\n",
       "        vertical-align: top;\n",
       "    }\n",
       "\n",
       "    .dataframe thead th {\n",
       "        text-align: right;\n",
       "    }\n",
       "</style>\n",
       "<table border=\"1\" class=\"dataframe\">\n",
       "  <thead>\n",
       "    <tr style=\"text-align: right;\">\n",
       "      <th></th>\n",
       "      <th>%_diff_TOT_SALES</th>\n",
       "      <th>%_diff_TOT_CUSTOMER</th>\n",
       "    </tr>\n",
       "    <tr>\n",
       "      <th>Tri, Ctr</th>\n",
       "      <th></th>\n",
       "      <th></th>\n",
       "    </tr>\n",
       "  </thead>\n",
       "  <tbody>\n",
       "    <tr>\n",
       "      <th>(77, 233)</th>\n",
       "      <td>0.261542</td>\n",
       "      <td>0.098214</td>\n",
       "    </tr>\n",
       "    <tr>\n",
       "      <th>(86, 155)</th>\n",
       "      <td>0.131501</td>\n",
       "      <td>0.131579</td>\n",
       "    </tr>\n",
       "    <tr>\n",
       "      <th>(88, 237)</th>\n",
       "      <td>0.121157</td>\n",
       "      <td>0.000000</td>\n",
       "    </tr>\n",
       "  </tbody>\n",
       "</table>\n",
       "</div>"
      ],
      "text/plain": [
       "           %_diff_TOT_SALES  %_diff_TOT_CUSTOMER\n",
       "Tri, Ctr                                        \n",
       "(77, 233)          0.261542             0.098214\n",
       "(86, 155)          0.131501             0.131579\n",
       "(88, 237)          0.121157             0.000000"
      ]
     },
     "execution_count": 39,
     "metadata": {},
     "output_type": "execute_result"
    }
   ],
   "source": [
    "percentd_data.set_index('Tri, Ctr',inplace = True)\n",
    "percentd_data"
   ]
  },
  {
   "cell_type": "code",
   "execution_count": null,
   "metadata": {},
   "outputs": [],
   "source": []
  },
  {
   "cell_type": "code",
   "execution_count": null,
   "metadata": {},
   "outputs": [],
   "source": []
  }
 ],
 "metadata": {
  "kernelspec": {
   "display_name": "Python 3",
   "language": "python",
   "name": "python3"
  },
  "language_info": {
   "codemirror_mode": {
    "name": "ipython",
    "version": 3
   },
   "file_extension": ".py",
   "mimetype": "text/x-python",
   "name": "python",
   "nbconvert_exporter": "python",
   "pygments_lexer": "ipython3",
   "version": "3.8.3"
  }
 },
 "nbformat": 4,
 "nbformat_minor": 4
}
